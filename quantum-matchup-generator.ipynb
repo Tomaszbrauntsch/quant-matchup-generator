{
 "cells": [
  {
   "cell_type": "code",
   "execution_count": 8,
   "id": "fe8fb3f8",
   "metadata": {},
   "outputs": [
    {
     "name": "stderr",
     "output_type": "stream",
     "text": [
      "ibmqfactory.load_account:WARNING:2021-07-30 00:42:52,347: Credentials are already in use. The existing account in the session will be replaced.\n"
     ]
    },
    {
     "name": "stdout",
     "output_type": "stream",
     "text": [
      "How many players need to be generate: 2\n",
      "Enter a name to add to the list: Tom\n",
      "Enter a name to add to the list: John\n",
      "Enter a name to add to the list: Bob\n",
      "Enter a name to add to the list: Hamdi\n",
      "Enter a name to add to the list: Cris\n",
      "Enter a name to add to the list: Mike\n",
      "Enter a name to add to the list: Josh\n",
      "Enter a name to add to the list: Luke\n",
      "Enter a name to add to the list: \n"
     ]
    }
   ],
   "source": [
    "\"\"\"\n",
    "Removal of players?\n",
    "Counter when a player has been choose too many times\n",
    "\"\"\"\n",
    "\n",
    "#Eventually implement a virtual environment\n",
    "\n",
    "# Importing standard Qiskit libraries\n",
    "from qiskit import QuantumCircuit, transpile, Aer, IBMQ, execute\n",
    "from qiskit.tools.jupyter import *\n",
    "from ibm_quantum_widgets import *\n",
    "\n",
    "from math import sqrt, ceil, floor\n",
    "\n",
    "provider = IBMQ.load_account() #Loading IBMQ Creds\n",
    "\n",
    "#implement user input for list of names and how many names to get generated\n",
    "list_of_players = []\n",
    "\n",
    "num_to_generate = int(input(\"How many players need to be generate: \"))\n",
    "current_name = input(\"Enter a name to add to the list: \") #import file???\n",
    "\n",
    "while(current_name != \"\"):\n",
    "    list_of_players.append(current_name)\n",
    "    current_name = input(\"Enter a name to add to the list: \")\n",
    "\n",
    "amount_of_qubits = ceil(sqrt(len(list_of_players))) #finds amount of qubits needed for the amount of states needed\n",
    "\n",
    "name_qubits = QuantumCircuit(amount_of_qubits)\n",
    "\n",
    "#for having the h-gates use for loops\n",
    "for x in range(amount_of_qubits):\n",
    "    name_qubits.h(x)\n",
    "\n",
    "name_qubits.measure_all()\n"
   ]
  },
  {
   "cell_type": "code",
   "execution_count": 35,
   "id": "7b0b2baf",
   "metadata": {},
   "outputs": [
    {
     "name": "stdout",
     "output_type": "stream",
     "text": [
      "Tom and Cris are versing right now!\n"
     ]
    }
   ],
   "source": [
    "# Use Aer's qasm_simulator\n",
    "simulator = Aer.get_backend('qasm_simulator')\n",
    "# Execute the circuit on the qasm simulator\n",
    "\n",
    "current_players = [] #used for formatting the print statement\n",
    "\n",
    "for x in range(num_to_generate): #used for user input on amount of players to choose\n",
    "    rng_index = rng(simulator)     \n",
    "    for player in current_players: #error handling; for each player in \n",
    "        while(list_of_players[rng_index] == player):\n",
    "            rng_index = rng(simulator)\n",
    "    current_players.append(list_of_players[rng_index])\n",
    "    print(list_of_players[rng_index], end = \" \")\n",
    "    if (x != num_to_generate-1):\n",
    "        print(\"and\", end = \" \")\n",
    "\n",
    "        \n",
    "#     if(x != num_to_generate-1):\n",
    "#         print(\"and\", end=\" \")\n",
    "print(\"are versing right now!\")"
   ]
  },
  {
   "cell_type": "code",
   "execution_count": 16,
   "id": "1e656cb9",
   "metadata": {},
   "outputs": [],
   "source": [
    "def rng(simulator):\n",
    "    job = execute(name_qubits, simulator, shots=1)\n",
    "    \n",
    "    result = job.result()\n",
    "    counts = result.get_counts() #obtain results from the job\n",
    "    \n",
    "    measured_bit = max(counts, key=counts.get) # the key is used to prevent errors\n",
    "    measured_bit_val = int(max(counts),2)\n",
    "    rng_to_index = floor(measured_bit_val * (len(list_of_players)/(2**(amount_of_qubits)))) #converting random number to work with list \n",
    "    return rng_to_index"
   ]
  },
  {
   "cell_type": "code",
   "execution_count": null,
   "id": "0d914e4c",
   "metadata": {},
   "outputs": [],
   "source": []
  }
 ],
 "metadata": {
  "kernelspec": {
   "display_name": "Qiskit v0.29.0",
   "language": "python",
   "name": "python3"
  },
  "language_info": {
   "codemirror_mode": {
    "name": "ipython",
    "version": 3
   },
   "file_extension": ".py",
   "mimetype": "text/x-python",
   "name": "python",
   "nbconvert_exporter": "python",
   "pygments_lexer": "ipython3",
   "version": "3.8.10"
  },
  "widgets": {
   "application/vnd.jupyter.widget-state+json": {
    "state": {},
    "version_major": 2,
    "version_minor": 0
   }
  }
 },
 "nbformat": 4,
 "nbformat_minor": 5
}
